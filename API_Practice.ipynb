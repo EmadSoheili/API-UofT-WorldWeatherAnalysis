{
 "cells": [
  {
   "cell_type": "code",
   "execution_count": 45,
   "id": "606ba703",
   "metadata": {},
   "outputs": [],
   "source": [
    "# Import dependencies\n",
    "import requests\n",
    "from datetime import datetime"
   ]
  },
  {
   "cell_type": "code",
   "execution_count": 4,
   "id": "538f1c73",
   "metadata": {},
   "outputs": [],
   "source": [
    "# Import the API key\n",
    "from config import weather_api_key"
   ]
  },
  {
   "cell_type": "code",
   "execution_count": 48,
   "id": "a2a74e04",
   "metadata": {},
   "outputs": [
    {
     "name": "stdout",
     "output_type": "stream",
     "text": [
      "http://api.openweathermap.org/data/2.5/weather?appid=9505d786e7747f356e97b2da52cb8888&q=Boston\n"
     ]
    }
   ],
   "source": [
    "city = 'Boston'\n",
    "url = f'http://api.openweathermap.org/data/2.5/weather?appid={weather_api_key}&q={city}'\n",
    "print(url)"
   ]
  },
  {
   "cell_type": "code",
   "execution_count": 40,
   "id": "6f0a1d31",
   "metadata": {},
   "outputs": [
    {
     "data": {
      "text/plain": [
       "{'coord': {'lon': -71.0598, 'lat': 42.3584},\n",
       " 'weather': [{'id': 801,\n",
       "   'main': 'Clouds',\n",
       "   'description': 'few clouds',\n",
       "   'icon': '02n'}],\n",
       " 'base': 'stations',\n",
       " 'main': {'temp': 285.74,\n",
       "  'feels_like': 285.14,\n",
       "  'temp_min': 282.8,\n",
       "  'temp_max': 287.71,\n",
       "  'pressure': 1012,\n",
       "  'humidity': 80},\n",
       " 'visibility': 10000,\n",
       " 'wind': {'speed': 2.24, 'deg': 306, 'gust': 4.02},\n",
       " 'clouds': {'all': 18},\n",
       " 'dt': 1664340712,\n",
       " 'sys': {'type': 2,\n",
       "  'id': 2013408,\n",
       "  'country': 'US',\n",
       "  'sunrise': 1664361475,\n",
       "  'sunset': 1664404306},\n",
       " 'timezone': -14400,\n",
       " 'id': 4930956,\n",
       " 'name': 'Boston',\n",
       " 'cod': 200}"
      ]
     },
     "execution_count": 40,
     "metadata": {},
     "output_type": "execute_result"
    }
   ],
   "source": [
    "city_weather = requests.get(url).json()\n",
    "city_weather"
   ]
  },
  {
   "cell_type": "code",
   "execution_count": 42,
   "id": "71ba086c",
   "metadata": {},
   "outputs": [
    {
     "data": {
      "text/plain": [
       "'US'"
      ]
     },
     "execution_count": 42,
     "metadata": {},
     "output_type": "execute_result"
    }
   ],
   "source": [
    "city_weather[\"sys\"][\"country\"]"
   ]
  },
  {
   "cell_type": "code",
   "execution_count": 44,
   "id": "7bda5339",
   "metadata": {},
   "outputs": [
    {
     "data": {
      "text/plain": [
       "42.3584"
      ]
     },
     "execution_count": 44,
     "metadata": {},
     "output_type": "execute_result"
    }
   ],
   "source": [
    "city_weather['coord']['lat']"
   ]
  },
  {
   "cell_type": "code",
   "execution_count": 47,
   "id": "e577a380",
   "metadata": {},
   "outputs": [
    {
     "data": {
      "text/plain": [
       "'2022-09-28 04:51:52'"
      ]
     },
     "execution_count": 47,
     "metadata": {},
     "output_type": "execute_result"
    }
   ],
   "source": [
    "datetime.utcfromtimestamp(city_weather[\"dt\"]).strftime('%Y-%m-%d %H:%M:%S')"
   ]
  },
  {
   "cell_type": "code",
   "execution_count": null,
   "id": "7c7bf0ef",
   "metadata": {},
   "outputs": [],
   "source": []
  }
 ],
 "metadata": {
  "kernelspec": {
   "display_name": "PythonData",
   "language": "python",
   "name": "pythondata"
  },
  "language_info": {
   "codemirror_mode": {
    "name": "ipython",
    "version": 3
   },
   "file_extension": ".py",
   "mimetype": "text/x-python",
   "name": "python",
   "nbconvert_exporter": "python",
   "pygments_lexer": "ipython3",
   "version": "3.9.4"
  }
 },
 "nbformat": 4,
 "nbformat_minor": 5
}
