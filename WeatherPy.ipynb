{
 "cells": [
  {
   "cell_type": "code",
   "execution_count": 1,
   "id": "273ae974",
   "metadata": {},
   "outputs": [],
   "source": [
    "# Import dependencies\n",
    "import pandas as pd\n",
    "import numpy as np\n",
    "import matplotlib.pyplot as plt\n",
    "from citipy import citipy"
   ]
  },
  {
   "cell_type": "code",
   "execution_count": 2,
   "id": "f888b132",
   "metadata": {},
   "outputs": [],
   "source": [
    "# Creat 1500 random latitude and longitude combinations\n",
    "lats = np.random.uniform(-90, 90, size=1500)\n",
    "lngs = np.random.uniform(-180, 180, size=1500)\n",
    "lat_lngs = zip(lats, lngs)\n",
    "coordinates = list(lat_lngs)"
   ]
  },
  {
   "cell_type": "code",
   "execution_count": 3,
   "id": "f9d71339",
   "metadata": {},
   "outputs": [
    {
     "data": {
      "text/plain": [
       "611"
      ]
     },
     "execution_count": 3,
     "metadata": {},
     "output_type": "execute_result"
    }
   ],
   "source": [
    "# Create a list of cities' name\n",
    "cities = []\n",
    "\n",
    "# Indentify the nearest cities for the coordinates\n",
    "for i in coordinates:\n",
    "    city = citipy.nearest_city(i[0], i[1]).city_name\n",
    "    \n",
    "    # Add city to the list\n",
    "    if city not in cities:\n",
    "        cities.append(city)\n",
    "        \n",
    "# Show how many cities we detect\n",
    "len(cities)"
   ]
  },
  {
   "cell_type": "code",
   "execution_count": null,
   "id": "2fd139f1",
   "metadata": {},
   "outputs": [],
   "source": []
  }
 ],
 "metadata": {
  "kernelspec": {
   "display_name": "PythonData",
   "language": "python",
   "name": "pythondata"
  },
  "language_info": {
   "codemirror_mode": {
    "name": "ipython",
    "version": 3
   },
   "file_extension": ".py",
   "mimetype": "text/x-python",
   "name": "python",
   "nbconvert_exporter": "python",
   "pygments_lexer": "ipython3",
   "version": "3.9.4"
  }
 },
 "nbformat": 4,
 "nbformat_minor": 5
}
